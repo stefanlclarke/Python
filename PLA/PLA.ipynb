{
 "cells": [
  {
   "cell_type": "code",
   "execution_count": 58,
   "metadata": {},
   "outputs": [],
   "source": [
    "import numpy as np\n",
    "import math as m"
   ]
  },
  {
   "cell_type": "code",
   "execution_count": 2,
   "metadata": {},
   "outputs": [],
   "source": [
    "data = [[1,-1,-1,1,-1,1,-1,1,-1],[1,-1,-1,-1,-1,1,1,-1,1],[1,-1,-1,-1,-1,1,-1,-1,-1],[-1,-1,1,-1,1,-1,1,-1,-1],[-1,1,-1,1,-1,1,-1,1,-1],[-1,1,1,1,1,-1,-1,1,1]]"
   ]
  },
  {
   "cell_type": "code",
   "execution_count": 3,
   "metadata": {},
   "outputs": [
    {
     "data": {
      "text/plain": [
       "[[1, -1, -1, 1, -1, 1, -1, 1, -1],\n",
       " [1, -1, -1, -1, -1, 1, 1, -1, 1],\n",
       " [1, -1, -1, -1, -1, 1, -1, -1, -1],\n",
       " [-1, -1, 1, -1, 1, -1, 1, -1, -1],\n",
       " [-1, 1, -1, 1, -1, 1, -1, 1, -1],\n",
       " [-1, 1, 1, 1, 1, -1, -1, 1, 1]]"
      ]
     },
     "execution_count": 3,
     "metadata": {},
     "output_type": "execute_result"
    }
   ],
   "source": [
    "data"
   ]
  },
  {
   "cell_type": "code",
   "execution_count": 16,
   "metadata": {},
   "outputs": [],
   "source": [
    "Q = [-1,-1,-1,1,1,1]"
   ]
  },
  {
   "cell_type": "code",
   "execution_count": 15,
   "metadata": {},
   "outputs": [],
   "source": [
    "def f(D,W):\n",
    "    k = []\n",
    "    p = []\n",
    "    for i in range(len(W)):\n",
    "        k.append(0)\n",
    "        p.append(0)\n",
    "    for j in range(len(D)):\n",
    "        for i in range(len(W)-1):\n",
    "            k[j] = k[j] + W[i]*D[j][i]\n",
    "        k[j] = k[j] + W[len(W) - 1]\n",
    "    for i in range(len(k)):\n",
    "        p[i] = np.sign(k[j])\n",
    "    return p"
   ]
  },
  {
   "cell_type": "code",
   "execution_count": 59,
   "metadata": {},
   "outputs": [],
   "source": [
    "def PLA(D,Q,W):\n",
    "    J = f(D,W)\n",
    "    for i in range(len(D)):\n",
    "        if J[i] != Q[i]:\n",
    "            for j in range(len(W)):\n",
    "                W[j] = W[j] + Q[i]*D[i][j]\n",
    "    Z = []\n",
    "    for i in range(len(W)):\n",
    "        Z.append((W[i])*W[i])\n",
    "    p = m.sqrt(sum(Z))\n",
    "    for i in range(len(W)):\n",
    "        W[i] = W[i]/p\n",
    "    return W"
   ]
  },
  {
   "cell_type": "code",
   "execution_count": 109,
   "metadata": {},
   "outputs": [],
   "source": [
    "def iteratePLA(D,Q,W,error):\n",
    "    while True:\n",
    "        J = PLA(D,Q,W)\n",
    "        A = []\n",
    "        for i in range(len(J)):\n",
    "            A.append(J[i] - W[i])\n",
    "        for i in range(len(A)):\n",
    "            A[i] = A[i]*A[i]\n",
    "        b = sum(A)\n",
    "        c = m.sqrt(b)\n",
    "        if c > error:\n",
    "            W = J\n",
    "        else:\n",
    "            W = J\n",
    "            break\n",
    "    return W"
   ]
  },
  {
   "cell_type": "code",
   "execution_count": 110,
   "metadata": {},
   "outputs": [],
   "source": [
    "def findresult(q,W):\n",
    "    p = 0\n",
    "    for i in range(len(W) - 1):\n",
    "        p = p + W[i]*q[i]\n",
    "    j = W[len(W) - 1]\n",
    "    r = np.sign(p + j)\n",
    "    return r"
   ]
  },
  {
   "cell_type": "code",
   "execution_count": 113,
   "metadata": {},
   "outputs": [],
   "source": [
    "W = iteratePLA(data,Q,[1,0.1,0.1,0.1,0.1,0.1,1],0.01)"
   ]
  },
  {
   "cell_type": "code",
   "execution_count": 114,
   "metadata": {},
   "outputs": [
    {
     "data": {
      "text/plain": [
       "[-0.29345204239205575,\n",
       " 0.45485066570768645,\n",
       " 0.45485066570768645,\n",
       " 0.16139862331563068,\n",
       " 0.45485066570768645,\n",
       " -0.42550546146848084,\n",
       " 0.29345204239205575]"
      ]
     },
     "execution_count": 114,
     "metadata": {},
     "output_type": "execute_result"
    }
   ],
   "source": [
    "W"
   ]
  },
  {
   "cell_type": "code",
   "execution_count": 116,
   "metadata": {},
   "outputs": [
    {
     "data": {
      "text/plain": [
       "-1.0"
      ]
     },
     "execution_count": 116,
     "metadata": {},
     "output_type": "execute_result"
    }
   ],
   "source": [
    "findresult([1,-1,-1,-1,1,-1,-1,-1,1],W)"
   ]
  },
  {
   "cell_type": "code",
   "execution_count": 118,
   "metadata": {},
   "outputs": [],
   "source": [
    "# there is nowhere near enough data here for the algorithm to converge to the same vector regardless \n",
    "# of starting point, but you get the idea."
   ]
  }
 ],
 "metadata": {
  "kernelspec": {
   "display_name": "Python 3",
   "language": "python",
   "name": "python3"
  },
  "language_info": {
   "codemirror_mode": {
    "name": "ipython",
    "version": 3
   },
   "file_extension": ".py",
   "mimetype": "text/x-python",
   "name": "python",
   "nbconvert_exporter": "python",
   "pygments_lexer": "ipython3",
   "version": "3.5.5"
  }
 },
 "nbformat": 4,
 "nbformat_minor": 2
}
